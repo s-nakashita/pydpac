{
 "cells": [
  {
   "cell_type": "markdown",
   "metadata": {},
   "source": [
    "# Demo\n",
    "\n",
    "This notebook is provided to describe the usage of pydpac using a one-dimensional toy model known as Lorenz96 ([Lorenz 1995](https://www.ecmwf.int/node/10829), [Lorenz and Emanuel 1998](https://doi.org/10.1175/1520-0469%281998%29055%3C0399:OSFSWO%3E2.0.CO;2)) described by the following equation.\n",
    "$$\n",
    "\\frac{\\mathrm{d}X_j}{\\mathrm{d}t} = (X_{j+1} - X_{j-2})X_{j-1} - X_j + F\n",
    "$${#eq-l96}\n",
    "where $j=1,\\cdots,40$ is a grid index and $X_0 = X_{40}$. \n",
    "\n",
    "## Available DA algorithms\n",
    "\n",
    "A data assimilation (DA) algorithm can be chosen from the followings.\n",
    "\n",
    "- Deterministic DA\n",
    "    * Kalman filter ([Kalman 1960](https://doi.org/10.1115/1.3662552))\n",
    "    * 3-dimensional, 4-dimensional variational method (3DVar, 4DVar; [Talagrand and Courtier 1987](https://doi.org/10.1002/qj.49711347812))\n",
    "- Ensemble DA\n",
    "    * Ensemble Kalman Filter ([Evensen 1994](https://doi.org/10.1029/94JC00572))\n",
    "        + Ensemble transform Kalman filter (ETKF; [Bishop et al. 2001](https://doi.org/10.1175/1520-0493%282001%29129%3C0420:ASWTET%3E2.0.CO;2))\n",
    "        + Perturbed observation method (PO; [Burgers et al. 1998](https://doi.org/10.1175/1520-0493%281998%29126%3C1719:ASITEK%3E2.0.CO;2), [Houtekamer et al.2005](https://doi.org/10.1175/MWR-2864.1))\n",
    "        + Serial ensemble square root filter (EnSRF; [Whitaker and Hamill 2002](https://doi.org/10.1175/1520-0493%282002%29130%3C1913:EDAWPO%3E2.0.CO;2))\n",
    "        + Ensemble adjustment Kalman filter (EAKF, local least-square formulation; [Anderson 2003](https://doi.org/10.1175/1520-0493%282003%29131<0634:ALLSFF>2.0.CO;2))\n",
    "        + Local ensemble transform Kalman filter (LETKF; [Hunt et al. 2007](https://doi.org/10.1016/j.physd.2006.11.008))\n",
    "    * Maximum likelihood ensemble filter (MLEF; [Zupanski 2005](https://doi.org/10.1175/MWR2946.1), [Zupanski et al. 2008](https://doi.org/10.1002/qj.251))\n",
    "    * Ensemble variational method (EnVar; [Liu et al. 2008](https://doi.org/10.1175/2008MWR2312.1))\n",
    "\n",
    "## Requirements\n",
    "\n",
    "- numpy for the model and DA\n",
    "- pandas for error statistics\n",
    "- matplotlib for plots\n"
   ]
  },
  {
   "cell_type": "code",
   "execution_count": 1,
   "metadata": {
    "scrolled": true
   },
   "outputs": [],
   "source": [
    "import sys\n",
    "import os\n",
    "import numpy as np\n",
    "import pandas as pd\n",
    "import matplotlib.pyplot as plt\n",
    "from analysis.obs import Obs"
   ]
  },
  {
   "cell_type": "code",
   "execution_count": null,
   "metadata": {
    "scrolled": true
   },
   "outputs": [],
   "source": [
    "# model parameter\n",
    "from model.lorenz import L96\n",
    "\n",
    "global nx, F, dt\n",
    "\n",
    "nx = 40     # number of points\n",
    "F  = 8.0    # forcing\n",
    "dt = 0.05 / 6  # time step (=1 hour)\n",
    "\n",
    "# forecast model forward operator\n",
    "step = L96(nx, dt, F)"
   ]
  },
  {
   "cell_type": "code",
   "execution_count": 3,
   "metadata": {
    "scrolled": true
   },
   "outputs": [],
   "source": [
    "# experimental parameter\n",
    "params = dict()\n",
    "params[\"t0off\"] =   8 # initial offset between adjacent members\n",
    "params[\"t0c\"] =    500 # initial time (t0) for control\n",
    "params[\"nt\"] =     6 # number of step per forecast (=6 hours)\n",
    "params[\"na\"] =   100 # number of analysis\n",
    "params[\"namax\"] = 1460 # max number of analysis (1 year)"
   ]
  },
  {
   "cell_type": "code",
   "execution_count": 4,
   "metadata": {},
   "outputs": [],
   "source": [
    "# observation settings\n",
    "params[\"nobs\"] = 40 # number of observation (less than or equal to nx)\n",
    "## op = observation type\n",
    "params[\"op\"] = \"linear\"\n",
    "## observation error\n",
    "sigma = {\"linear\": 1.0, \"quadratic\": 8.0e-1, \"cubic\": 7.0e-2, \\\n",
    "    \"quadratic-nodiff\": 8.0e-1, \"cubic-nodiff\": 7.0e-2, \"test\":1.0}\n",
    "ftype = {\"mlef\":\"ensemble\",\"etkf\":\"ensemble\",\\\n",
    "    \"po\":\"ensemble\",\"srf\":\"ensemble\",\"eakf\":\"ensemble\",\"letkf\":\"ensemble\",\\\n",
    "        \"kf\":\"deterministic\",\"var\":\"deterministic\",\"var4d\":\"deterministic\"}"
   ]
  },
  {
   "cell_type": "code",
   "execution_count": 10,
   "metadata": {
    "scrolled": true
   },
   "outputs": [],
   "source": [
    "# DA settings\n",
    "## pt = DA type\n",
    "params[\"pt\"] = \"mlef\"\n",
    "params[\"nmem\"] =   40 # ensemble size\n",
    "params[\"linf\"] = True # inflation switch (True=Apply, False=Not apply)\n",
    "params[\"infl_parm\"] = 1.1 # multiplicative inflation parameter\n",
    "params[\"lloc\"] = False # localization switch (True=Apply, False=Not apply)\n",
    "params[\"iloc\"] = 0 # None -> No localization\n",
    "                   # = 0  -> R-localization\n",
    "                   # = 1  -> EVD of localized Pf\n",
    "                   # = 2  -> Modulated ensemble\n",
    "params[\"lsig\"] = 8.0 # localization radius\n",
    "params[\"ltlm\"] = False  # tangent linear operator switch (True=Use, False=Not use)\n",
    "params[\"a_window\"] = 1 # assimilation window length (for 4-dimensional DA)\n",
    "params[\"sigb\"] = 0.6 # (for var & 4dvar) background error standard deviation\n",
    "params[\"lb\"]         = -1.0     # (For var & 4dvar) correlation length for background error covariance"
   ]
  },
  {
   "cell_type": "code",
   "execution_count": null,
   "metadata": {
    "scrolled": false
   },
   "outputs": [],
   "source": [
    "from main import get_daclass, main\n",
    "from exp_func import Exp_func\n",
    "# module setting\n",
    "global op, pt, ft\n",
    "op = params[\"op\"]\n",
    "pt = params[\"pt\"]\n",
    "ft = ftype[pt]\n",
    "params[\"ft\"] = ft\n",
    "\n",
    "# observation operator\n",
    "obs = Obs(op, sigma[op])\n",
    "\n",
    "# import DA class\n",
    "analysis = get_daclass(params, step, obs, \"l96\")\n",
    "\n",
    "# load experimental tools\n",
    "func = Exp_func(\"l96\",step,obs,params,save_data=False)"
   ]
  },
  {
   "cell_type": "code",
   "execution_count": null,
   "metadata": {},
   "outputs": [],
   "source": [
    "# get truth and make observation\n",
    "xt, yobs = func.get_true_and_obs()\n",
    "# initialize all variables\n",
    "u, xa, xf, pa = func.initialize()\n",
    "pf = analysis.calc_pf(u, cycle=0)\n",
    "\n",
    "# analysis-forecast cycle timelot \n",
    "na = params[\"na\"]\n",
    "a_window = params[\"a_window\"]\n",
    "a_time = range(0, na, a_window)\n",
    "e = np.zeros(na) # RMSE between truth and analysis\n",
    "stda = np.zeros(na) # analysis error standard deviation\n",
    "for i in a_time:\n",
    "    # read observation\n",
    "    yloc = yobs[i:i+a_window,:,0]\n",
    "    y = yobs[i:i+a_window,:,1]\n",
    "    # analysis\n",
    "    if pt[:2] == \"4d\": # assimilate observations at different time (4-dimensional)\n",
    "        u, pa = analysis(u, pf, y, yloc, cycle=i)\n",
    "    else: # assimilate observations at a time\n",
    "        u, pa = analysis(u, pf, y[0], yloc[0], icycle=i)\n",
    "    # save analysis (mean)\n",
    "    if ft==\"ensemble\":\n",
    "        if pt == \"mlef\" or pt == \"4dmlef\":\n",
    "            xa[i] = u[:, 0]\n",
    "        else:\n",
    "            xa[i] = np.mean(u, axis=1)\n",
    "    else:\n",
    "        xa[i] = u \n",
    "    if i < na-1:\n",
    "        # forecast\n",
    "        if a_window > 1: # 4-dimensional\n",
    "            um, uf = func.forecast(u)\n",
    "            if (i+1+a_window <= na):\n",
    "                xa[i+1:i+1+a_window] = um\n",
    "                xf[i+1:i+1+a_window] = um\n",
    "                ii = 0\n",
    "                for k in range(i+1,i+1+a_window):\n",
    "                    if pt==\"4dvar\":\n",
    "                        stda[k] = np.sqrt(np.trace(pa)/nx)\n",
    "                    else:\n",
    "                        patmp = analysis.calc_pf(uf[ii], pa=pa, cycle=k)\n",
    "                        stda[k] = np.sqrt(np.trace(patmp)/nx)\n",
    "                    ii += 1\n",
    "            else:\n",
    "                xa[i+1:na] = um[:na-i-1]\n",
    "                xf[i+1:na] = um[:na-i-1]\n",
    "                ii = 0\n",
    "                for k in range(i+1,na):\n",
    "                    if pt==\"4dvar\":\n",
    "                        stda[k] = np.sqrt(np.trace(pa)/nx)\n",
    "                    else:\n",
    "                        patmp = analysis.calc_pf(uf[ii], pa=pa, cycle=k)\n",
    "                        stda[k] = np.sqrt(np.trace(patmp)/nx)\n",
    "                    ii += 1\n",
    "            u = uf[-1]\n",
    "            um = um[-1]\n",
    "            pf = analysis.calc_pf(u, pa=pa, cycle=i+1)\n",
    "        else:\n",
    "            um, u = func.forecast(u)\n",
    "            pf = analysis.calc_pf(u, pa=pa, cycle=i+1)\n",
    "        # save forecast (mean)\n",
    "        xf[i+1] = um\n",
    "    # calcurate RMSE & spread\n",
    "    if a_window > 1: # 4-dimensional\n",
    "        for k in range(i, min(i+a_window,na)):\n",
    "            e[k] = np.sqrt(np.mean((xa[k, :] - xt[k, :])**2))\n",
    "    else:\n",
    "        e[i] = np.sqrt(np.mean((xa[i, :] - xt[i, :])**2))\n",
    "    stda[i] = np.sqrt(np.trace(pa)/nx)"
   ]
  },
  {
   "cell_type": "code",
   "execution_count": null,
   "metadata": {},
   "outputs": [],
   "source": [
    "obs_s = sigma[op]\n",
    "t = np.arange(params[\"na\"]) + 1\n",
    "y = np.ones(t.size) * obs_s\n",
    "fig, ax = plt.subplots()\n",
    "ax.plot(t, e, label='RMSE')\n",
    "ax.plot(t, stda, ls='dashed', label='STDA')\n",
    "ax.plot(t, y, linestyle=\"dotted\", color=\"black\", label=\"observation error\")\n",
    "ax.set(xlabel=\"DA cycle\", title=pt+\" \"+op)\n",
    "ax.set_xticks(t[::10])\n",
    "ax.set_xticks(t[::20],minor=True)\n",
    "ax.legend()\n",
    "plt.show()"
   ]
  },
  {
   "cell_type": "code",
   "execution_count": null,
   "metadata": {},
   "outputs": [],
   "source": [
    "from matplotlib.colors import Normalize\n",
    "x = np.arange(nx)\n",
    "fig, axs = plt.subplots(ncols=3,sharey=True,constrained_layout=True)\n",
    "vmin = -10\n",
    "vmax = 10\n",
    "p0=axs[0].pcolormesh(x, t, xt, shading='auto', cmap='coolwarm', norm=Normalize(vmin=vmin,vmax=vmax))\n",
    "axs[0].set_title('truth')\n",
    "p1=axs[1].pcolormesh(x, t, xa, shading='auto', cmap='coolwarm', norm=Normalize(vmin=vmin,vmax=vmax))\n",
    "axs[1].set_title('analysis')\n",
    "fig.colorbar(p1,ax=axs[1])\n",
    "p2=axs[2].pcolormesh(x, t, xa-xt, shading='auto', cmap='coolwarm', norm=Normalize(vmin=-2.0,vmax=2.0))\n",
    "axs[2].set_title('error')\n",
    "fig.colorbar(p2,ax=axs[2])\n",
    "for ax in axs:\n",
    "    ax.set_xticks(x[::(nx//8)])\n",
    "    ax.set_yticks(t[::(na//8)])\n",
    "    ax.set_ylim(t[-1],t[0])\n",
    "    ax.set_xlabel('site')\n",
    "axs[0].set_ylabel('DA cycle')\n",
    "plt.show()"
   ]
  }
 ],
 "metadata": {
  "kernelspec": {
   "display_name": "Python 3",
   "language": "python",
   "name": "python3"
  },
  "language_info": {
   "codemirror_mode": {
    "name": "ipython",
    "version": 3
   },
   "file_extension": ".py",
   "mimetype": "text/x-python",
   "name": "python",
   "nbconvert_exporter": "python",
   "pygments_lexer": "ipython3",
   "version": "3.12.8"
  }
 },
 "nbformat": 4,
 "nbformat_minor": 4
}
